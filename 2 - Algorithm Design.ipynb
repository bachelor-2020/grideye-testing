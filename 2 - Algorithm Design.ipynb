{
 "cells": [
  {
   "cell_type": "markdown",
   "metadata": {},
   "source": [
    "# 2 - Algorithm Design"
   ]
  },
  {
   "cell_type": "code",
   "execution_count": 1,
   "metadata": {},
   "outputs": [
    {
     "name": "stderr",
     "output_type": "stream",
     "text": [
      "\r",
      "0it [00:00, ?it/s]"
     ]
    },
    {
     "data": {
      "application/javascript": [
       "if (!(\"Notification\" in window)) {\n",
       "    alert(\"This browser does not support desktop notifications, so the %%notify magic will not work.\");\n",
       "} else if (Notification.permission !== 'granted' && Notification.permission !== 'denied') {\n",
       "    Notification.requestPermission(function (permission) {\n",
       "        if(!('permission' in Notification)) {\n",
       "            Notification.permission = permission;\n",
       "        }\n",
       "    })\n",
       "}\n"
      ],
      "text/plain": [
       "<IPython.core.display.Javascript object>"
      ]
     },
     "metadata": {},
     "output_type": "display_data"
    }
   ],
   "source": [
    "import pandas as pd\n",
    "import numpy as np\n",
    "\n",
    "from tqdm import tqdm_notebook,tnrange,tqdm_pandas,tqdm\n",
    "tqdm.pandas(tqdm())\n",
    "\n",
    "import os\n",
    "import cPickle as pickle\n",
    "\n",
    "import datetime as dt\n",
    "\n",
    "import ipywidgets as widgets\n",
    "\n",
    "\n",
    "import jupyternotify\n",
    "ip = get_ipython()\n",
    "ip.register_magics(jupyternotify.JupyterNotifyMagics)\n",
    "#notify if cell is finished for cells taking longer than 30 seconds\n",
    "%autonotify -a 30"
   ]
  },
  {
   "cell_type": "markdown",
   "metadata": {},
   "source": [
    "### Path to your urinal-data-28-nov_clean _pickle_ file"
   ]
  },
  {
   "cell_type": "code",
   "execution_count": 2,
   "metadata": {},
   "outputs": [],
   "source": [
    "# pickle_name = \"urinal-data-28-nov_clean.p\"\n",
    "# pickle_path = \"F:\\\\Research\\\\ben\\\\grideye_urinal\"\n",
    "# pickle_full = os.path.join(pickle_path, pickle_name)\n",
    "\n",
    "# print(\"looking in\", pickle_full)\n",
    "pickle_full = \"urinal-data-28-nov_clean.p\""
   ]
  },
  {
   "cell_type": "markdown",
   "metadata": {},
   "source": [
    "### Load Data"
   ]
  },
  {
   "cell_type": "code",
   "execution_count": 3,
   "metadata": {},
   "outputs": [
    {
     "name": "stdout",
     "output_type": "stream",
     "text": [
      "loading pickle\n"
     ]
    }
   ],
   "source": [
    "#---------- read in pickle----------   \n",
    "if os.path.isfile(pickle_full):\n",
    "    print(\"loading pickle\")\n",
    "    df = pd.read_pickle(pickle_full)\n",
    "   \n",
    "else:\n",
    "    print(\"Did you run 1- Raw Data Visualisation?\")"
   ]
  },
  {
   "cell_type": "markdown",
   "metadata": {},
   "source": [
    "we want indexes not, timestamps, as our time data is only recorded to the nearest second (yet we have a sampling rate of 10 frames/second)"
   ]
  },
  {
   "cell_type": "code",
   "execution_count": 4,
   "metadata": {},
   "outputs": [],
   "source": [
    "df.reset_index(inplace=True)"
   ]
  },
  {
   "cell_type": "code",
   "execution_count": 5,
   "metadata": {},
   "outputs": [
    {
     "data": {
      "text/html": [
       "<div>\n",
       "<style scoped>\n",
       "    .dataframe tbody tr th:only-of-type {\n",
       "        vertical-align: middle;\n",
       "    }\n",
       "\n",
       "    .dataframe tbody tr th {\n",
       "        vertical-align: top;\n",
       "    }\n",
       "\n",
       "    .dataframe thead th {\n",
       "        text-align: right;\n",
       "    }\n",
       "</style>\n",
       "<table border=\"1\" class=\"dataframe\">\n",
       "  <thead>\n",
       "    <tr style=\"text-align: right;\">\n",
       "      <th></th>\n",
       "      <th>time</th>\n",
       "      <th>P0</th>\n",
       "      <th>P1</th>\n",
       "      <th>P2</th>\n",
       "      <th>P3</th>\n",
       "      <th>P4</th>\n",
       "      <th>P5</th>\n",
       "      <th>P6</th>\n",
       "      <th>P7</th>\n",
       "      <th>P8</th>\n",
       "      <th>...</th>\n",
       "      <th>P54</th>\n",
       "      <th>P55</th>\n",
       "      <th>P56</th>\n",
       "      <th>P57</th>\n",
       "      <th>P58</th>\n",
       "      <th>P59</th>\n",
       "      <th>P60</th>\n",
       "      <th>P61</th>\n",
       "      <th>P62</th>\n",
       "      <th>P63</th>\n",
       "    </tr>\n",
       "  </thead>\n",
       "  <tbody>\n",
       "    <tr>\n",
       "      <th>2315776</th>\n",
       "      <td>2017-11-26 17:50:10</td>\n",
       "      <td>23.25</td>\n",
       "      <td>23.75</td>\n",
       "      <td>24.0</td>\n",
       "      <td>24.0</td>\n",
       "      <td>24.5</td>\n",
       "      <td>24.0</td>\n",
       "      <td>24.75</td>\n",
       "      <td>23.75</td>\n",
       "      <td>22.75</td>\n",
       "      <td>...</td>\n",
       "      <td>23.25</td>\n",
       "      <td>22.75</td>\n",
       "      <td>23.00</td>\n",
       "      <td>23.75</td>\n",
       "      <td>24.00</td>\n",
       "      <td>23.25</td>\n",
       "      <td>24.25</td>\n",
       "      <td>23.50</td>\n",
       "      <td>21.75</td>\n",
       "      <td>22.25</td>\n",
       "    </tr>\n",
       "    <tr>\n",
       "      <th>1197832</th>\n",
       "      <td>2017-11-25 06:41:02</td>\n",
       "      <td>22.00</td>\n",
       "      <td>22.75</td>\n",
       "      <td>22.5</td>\n",
       "      <td>22.0</td>\n",
       "      <td>23.0</td>\n",
       "      <td>22.5</td>\n",
       "      <td>22.50</td>\n",
       "      <td>22.75</td>\n",
       "      <td>23.25</td>\n",
       "      <td>...</td>\n",
       "      <td>21.50</td>\n",
       "      <td>22.00</td>\n",
       "      <td>23.25</td>\n",
       "      <td>22.00</td>\n",
       "      <td>22.75</td>\n",
       "      <td>21.75</td>\n",
       "      <td>23.50</td>\n",
       "      <td>22.25</td>\n",
       "      <td>21.00</td>\n",
       "      <td>22.50</td>\n",
       "    </tr>\n",
       "  </tbody>\n",
       "</table>\n",
       "<p>2 rows × 65 columns</p>\n",
       "</div>"
      ],
      "text/plain": [
       "                       time     P0     P1    P2    P3    P4    P5     P6  \\\n",
       "2315776 2017-11-26 17:50:10  23.25  23.75  24.0  24.0  24.5  24.0  24.75   \n",
       "1197832 2017-11-25 06:41:02  22.00  22.75  22.5  22.0  23.0  22.5  22.50   \n",
       "\n",
       "            P7     P8  ...      P54    P55    P56    P57    P58    P59    P60  \\\n",
       "2315776  23.75  22.75  ...    23.25  22.75  23.00  23.75  24.00  23.25  24.25   \n",
       "1197832  22.75  23.25  ...    21.50  22.00  23.25  22.00  22.75  21.75  23.50   \n",
       "\n",
       "           P61    P62    P63  \n",
       "2315776  23.50  21.75  22.25  \n",
       "1197832  22.25  21.00  22.50  \n",
       "\n",
       "[2 rows x 65 columns]"
      ]
     },
     "execution_count": 5,
     "metadata": {},
     "output_type": "execute_result"
    }
   ],
   "source": [
    "df.sample(2)"
   ]
  },
  {
   "cell_type": "markdown",
   "metadata": {},
   "source": [
    "## Adaptive Threshold\n",
    "In _1- Raw Data Visualisation_ we saw how noisy our data is. \n",
    "With some additional testing, it's pretty clear simply looking for pixels above a set temperature is not sufficient, the ambient air temperature just varies too [much](https://www.sciencedirect.com/science/article/pii/S0360132396000340)!\n",
    "\n",
    "<img src=\"layout_sections.png\" alt=\"grideye camera view\" width=\"350\" height=\"350\" align=\"left\">So: \n",
    "- We want to find a warm body in the of mess pixels. \n",
    "- We have a pretty good idea of where the warm body will appear. \n",
    "- We have an area where no person will be (the empty space)\n",
    "\n",
    "\n"
   ]
  },
  {
   "cell_type": "markdown",
   "metadata": {},
   "source": [
    "These [researchers](http://www.scirp.org/jouRNAl/PaperInformation.aspx?PaperID=74726) achieved 97% accuracy finding a person with the Grid-EYE.  \n",
    "By adapting their algorithm, we created an adaptive threshold algorithm for determining a urinal __\"stay\"__ which goes something like:\n",
    "\n",
    "1. get background temperature (Empty Space) ($T_b$)\n",
    "2. Calculate mean of highest three temperatures for each section  ($T_m$)\n",
    "3. Compare $T_b$ to $T_m$ ($T_m - T_b > threshold$) and greater than an absolute temperature ($T_{abs}$) \n",
    "4. Determine a \"__stay__\" by thresholding the time"
   ]
  },
  {
   "cell_type": "markdown",
   "metadata": {},
   "source": [
    "### Grab the Urinal Section\n",
    "\n",
    "We first create a \"mask\" which contains a list of column names corresponding to the Urinal section  \n",
    "In this case we ignore the top 2 rows, as no one in the office is above 7 foot!"
   ]
  },
  {
   "cell_type": "code",
   "execution_count": 6,
   "metadata": {},
   "outputs": [],
   "source": [
    "height = 6\n",
    "n = 8\n",
    "width_left = 2\n",
    "width_middle = 3\n",
    "width_right = 3\n",
    "bottom_trim = 0\n",
    "\n",
    "left_mask   = []\n",
    "middle_mask = []\n",
    "right_mask  = []\n",
    "for y in range(n-height,n-bottom_trim):\n",
    "    # LEFT\n",
    "    for x in range(width_left):\n",
    "        left_mask.append(x+y*n) \n",
    "    # MIDDLE\n",
    "    for x in range(width_middle):\n",
    "         middle_mask.append(x+y*n+width_left) \n",
    "    # RIGHT\n",
    "    for x in range(width_right):\n",
    "         right_mask.append(x+y*n+width_left+width_middle) \n",
    "\n",
    "left_mask = [\"P\"+str(x) for x in left_mask]  \n",
    "middle_mask = [\"P\"+str(x) for x in middle_mask]  \n",
    "right_mask = [\"P\"+str(x) for x in right_mask]  \n"
   ]
  },
  {
   "cell_type": "markdown",
   "metadata": {},
   "source": [
    "### Grab the background temperature ($T_b$)\n",
    "Assuming no person (or hot object) will loiter near the roof,  \n",
    "we take the background temperature values as the mean of top 2 rows (per section<sup>1</sup>)  \n",
    "___\n",
    "<sup>1</sup><sub>Per section, as there are AC vents above the left and right urinals and not the middle, therefore the temperature is generally higher in the middle.</sub>"
   ]
  },
  {
   "cell_type": "code",
   "execution_count": 7,
   "metadata": {},
   "outputs": [
    {
     "data": {
      "text/html": [
       "<div>\n",
       "<style scoped>\n",
       "    .dataframe tbody tr th:only-of-type {\n",
       "        vertical-align: middle;\n",
       "    }\n",
       "\n",
       "    .dataframe tbody tr th {\n",
       "        vertical-align: top;\n",
       "    }\n",
       "\n",
       "    .dataframe thead th {\n",
       "        text-align: right;\n",
       "    }\n",
       "</style>\n",
       "<table border=\"1\" class=\"dataframe\">\n",
       "  <thead>\n",
       "    <tr style=\"text-align: right;\">\n",
       "      <th></th>\n",
       "      <th>P2</th>\n",
       "      <th>P3</th>\n",
       "      <th>P4</th>\n",
       "      <th>P10</th>\n",
       "      <th>P11</th>\n",
       "      <th>P12</th>\n",
       "    </tr>\n",
       "  </thead>\n",
       "  <tbody>\n",
       "    <tr>\n",
       "      <th>2761355</th>\n",
       "      <td>22.25</td>\n",
       "      <td>22.50</td>\n",
       "      <td>22.50</td>\n",
       "      <td>22.25</td>\n",
       "      <td>22.75</td>\n",
       "      <td>22.00</td>\n",
       "    </tr>\n",
       "    <tr>\n",
       "      <th>3272977</th>\n",
       "      <td>22.75</td>\n",
       "      <td>22.25</td>\n",
       "      <td>22.75</td>\n",
       "      <td>22.50</td>\n",
       "      <td>22.25</td>\n",
       "      <td>22.00</td>\n",
       "    </tr>\n",
       "    <tr>\n",
       "      <th>2862973</th>\n",
       "      <td>22.75</td>\n",
       "      <td>21.75</td>\n",
       "      <td>23.50</td>\n",
       "      <td>23.00</td>\n",
       "      <td>23.75</td>\n",
       "      <td>22.75</td>\n",
       "    </tr>\n",
       "    <tr>\n",
       "      <th>567726</th>\n",
       "      <td>22.00</td>\n",
       "      <td>22.75</td>\n",
       "      <td>23.50</td>\n",
       "      <td>23.00</td>\n",
       "      <td>23.50</td>\n",
       "      <td>22.25</td>\n",
       "    </tr>\n",
       "    <tr>\n",
       "      <th>1539437</th>\n",
       "      <td>21.75</td>\n",
       "      <td>22.75</td>\n",
       "      <td>23.50</td>\n",
       "      <td>23.25</td>\n",
       "      <td>24.00</td>\n",
       "      <td>21.50</td>\n",
       "    </tr>\n",
       "    <tr>\n",
       "      <th>88173</th>\n",
       "      <td>22.75</td>\n",
       "      <td>23.25</td>\n",
       "      <td>24.25</td>\n",
       "      <td>22.50</td>\n",
       "      <td>23.50</td>\n",
       "      <td>22.50</td>\n",
       "    </tr>\n",
       "    <tr>\n",
       "      <th>2358677</th>\n",
       "      <td>22.75</td>\n",
       "      <td>23.75</td>\n",
       "      <td>24.00</td>\n",
       "      <td>24.00</td>\n",
       "      <td>22.75</td>\n",
       "      <td>23.50</td>\n",
       "    </tr>\n",
       "    <tr>\n",
       "      <th>2330277</th>\n",
       "      <td>23.00</td>\n",
       "      <td>23.75</td>\n",
       "      <td>23.75</td>\n",
       "      <td>24.25</td>\n",
       "      <td>24.50</td>\n",
       "      <td>23.25</td>\n",
       "    </tr>\n",
       "    <tr>\n",
       "      <th>3003453</th>\n",
       "      <td>22.25</td>\n",
       "      <td>22.50</td>\n",
       "      <td>23.00</td>\n",
       "      <td>22.00</td>\n",
       "      <td>23.00</td>\n",
       "      <td>21.75</td>\n",
       "    </tr>\n",
       "    <tr>\n",
       "      <th>2393211</th>\n",
       "      <td>23.25</td>\n",
       "      <td>23.00</td>\n",
       "      <td>23.25</td>\n",
       "      <td>23.50</td>\n",
       "      <td>24.00</td>\n",
       "      <td>22.75</td>\n",
       "    </tr>\n",
       "  </tbody>\n",
       "</table>\n",
       "</div>"
      ],
      "text/plain": [
       "            P2     P3     P4    P10    P11    P12\n",
       "2761355  22.25  22.50  22.50  22.25  22.75  22.00\n",
       "3272977  22.75  22.25  22.75  22.50  22.25  22.00\n",
       "2862973  22.75  21.75  23.50  23.00  23.75  22.75\n",
       "567726   22.00  22.75  23.50  23.00  23.50  22.25\n",
       "1539437  21.75  22.75  23.50  23.25  24.00  21.50\n",
       "88173    22.75  23.25  24.25  22.50  23.50  22.50\n",
       "2358677  22.75  23.75  24.00  24.00  22.75  23.50\n",
       "2330277  23.00  23.75  23.75  24.25  24.50  23.25\n",
       "3003453  22.25  22.50  23.00  22.00  23.00  21.75\n",
       "2393211  23.25  23.00  23.25  23.50  24.00  22.75"
      ]
     },
     "execution_count": 7,
     "metadata": {},
     "output_type": "execute_result"
    }
   ],
   "source": [
    "height = 6 # top 2 rows\n",
    "n = 8\n",
    "width_left = 2\n",
    "width_middle = 3\n",
    "width_right = 3\n",
    "\n",
    "left_top   = []\n",
    "middle_top = []\n",
    "right_top  = []\n",
    "for y in range(0,n-height):\n",
    "    # LEFT\n",
    "    for x in range(width_left):\n",
    "        left_top.append(x+y*n) \n",
    "    # MIDDLE\n",
    "    for x in range(width_middle):\n",
    "         middle_top.append(x+y*n+width_left) \n",
    "    # RIGHT\n",
    "    for x in range(width_right):\n",
    "         right_top.append(x+y*n+width_left+width_middle) \n",
    "\n",
    "left_top = [\"P\"+str(x) for x in left_top]  \n",
    "middle_top = [\"P\"+str(x) for x in middle_top]  \n",
    "right_top = [\"P\"+str(x) for x in right_top]  \n",
    "\n",
    "df[middle_top].sample(10)"
   ]
  },
  {
   "cell_type": "markdown",
   "metadata": {},
   "source": [
    "### Calculate the Background temperature ($T_b$)\n",
    "We take the background temperature every minute, therefore making sure long-term changes in ambient temperature are considered "
   ]
  },
  {
   "cell_type": "code",
   "execution_count": 8,
   "metadata": {},
   "outputs": [
    {
     "data": {
      "application/vnd.jupyter.widget-view+json": {
       "model_id": "041ea6aa64b0456fac017fbf4b559bfc"
      }
     },
     "metadata": {},
     "output_type": "display_data"
    },
    {
     "name": "stdout",
     "output_type": "stream",
     "text": [
      "\n"
     ]
    },
    {
     "data": {
      "application/javascript": [
       "$(document).ready(\n",
       "    function() {\n",
       "        function appendUniqueDiv(){\n",
       "            // append a div with our uuid so we can check that it's already\n",
       "            // been sent and avoid duplicates on page reload\n",
       "            var notifiedDiv = document.createElement(\"div\")\n",
       "            notifiedDiv.id = \"2a880808-361d-40b3-b311-29884bc8115c\"\n",
       "            element.append(notifiedDiv)\n",
       "        }\n",
       "\n",
       "        // only send notifications if the pageload is complete; this will\n",
       "        // help stop extra notifications when a saved notebook is loaded,\n",
       "        // which during testing gives us state \"interactive\", not \"complete\"\n",
       "        if (document.readyState === 'complete') {\n",
       "            // check for the div that signifies that the notification\n",
       "            // was already sent\n",
       "            if (document.getElementById(\"2a880808-361d-40b3-b311-29884bc8115c\") === null) {\n",
       "                var notificationPayload = {\"body\": \"Cell Execution Has Finished!!\", \"requireInteraction\": false, \"icon\": \"/static/base/images/favicon.ico\", \"autonotify_after\": \"30\", \"autonotify_output\": false};\n",
       "                if (Notification.permission !== 'denied') {\n",
       "                    if (Notification.permission !== 'granted') { \n",
       "                        Notification.requestPermission(function (permission) {\n",
       "                            if(!('permission' in Notification)) {\n",
       "                                Notification.permission = permission\n",
       "                            }\n",
       "                        })\n",
       "                    }\n",
       "                    if (Notification.permission === 'granted') {\n",
       "                    var notification = new Notification(\"Jupyter Notebook\", notificationPayload)\n",
       "                    appendUniqueDiv()\n",
       "                    notification.onclick = function () {\n",
       "                        window.focus();\n",
       "                        this.close();\n",
       "                        };\n",
       "                    } \n",
       "                }     \n",
       "            }\n",
       "        }\n",
       "    }\n",
       ")\n"
      ],
      "text/plain": [
       "<IPython.core.display.Javascript object>"
      ]
     },
     "metadata": {},
     "output_type": "display_data"
    }
   ],
   "source": [
    "window = 600 # 1 minute window for background temp\n",
    "\n",
    "left_background = []\n",
    "middle_background = []\n",
    "right_background = []\n",
    "\n",
    "for t in tnrange(window/2,len(df),window):  \n",
    "    left_background.append(df.loc[t-window/2:t+window/2,:][left_top].mean().mean())\n",
    "    middle_background.append(df.loc[t-window/2:t+window/2,:][middle_top].mean().mean())\n",
    "    right_background.append(df.loc[t-window/2:t+window/2,:][right_top].mean().mean())\n",
    "\n"
   ]
  },
  {
   "cell_type": "markdown",
   "metadata": {},
   "source": [
    "### Add minute to minute background temperatures ($T_b$) to dataframe\n",
    "We also error check to make sure the columns are of equal length"
   ]
  },
  {
   "cell_type": "code",
   "execution_count": 9,
   "metadata": {},
   "outputs": [],
   "source": [
    "left_background = [x for x in left_background for _ in range(window)]    \n",
    "middle_background = [x for x in middle_background for _ in range(window)]    \n",
    "right_background = [x for x in right_background for _ in range(window)]  \n",
    "\n",
    "if len(left_background) > len(df):\n",
    "    left_background = left_background[0:-(len(left_background) - len(df))]\n",
    "    middle_background = middle_background[0:-(len(middle_background) - len(df))]\n",
    "    right_background = right_background[0:-(len(right_background) - len(df))]\n",
    "elif len(left_thresh) < len(df):    \n",
    "    left_background.extend([left_background[-1]]*(len(df) - len(left_background)))\n",
    "    middle_background.extend([middle_background[-1]]*(len(df) - len(middle_background)))\n",
    "    right_background.extend([right_background[-1]]*(len(df) - len(right_background)))\n",
    "\n",
    "if not (len(left_background) == len(middle_background) == len(right_background) == len(df)):\n",
    "    raise AssertionError()"
   ]
  },
  {
   "cell_type": "markdown",
   "metadata": {},
   "source": [
    "### Pickle Path"
   ]
  },
  {
   "cell_type": "code",
   "execution_count": 10,
   "metadata": {},
   "outputs": [],
   "source": [
    "# pickle_name = \"urinal-data-28-nov_clean.p\"\n",
    "# pickle_path = \"F:\\\\Research\\\\ben\\\\grideye_urinal\"\n",
    "# pickle_full = os.path.join(pickle_path, pickle_name)\n",
    "\n",
    "# print(\"looking in\", pickle_full)\n",
    "pickle_full = 'compare_temps.p'\n"
   ]
  },
  {
   "cell_type": "markdown",
   "metadata": {},
   "source": [
    "### Calculate the mean of the highest 3 temperatures per frame ($T_m$)\n",
    "We find the highest three because this is approximately the number of pixels a person occupies in a frame.  \n",
    "If we look at the mean of all pixels, the value calculated is generally too close to the background temperature.  \n",
    "___\n",
    "<sub>I've created my own function here as I found it to be significantly faster than using numpy's _argpartition_ or bottleneck's _partition_</sub>\n"
   ]
  },
  {
   "cell_type": "code",
   "execution_count": 11,
   "metadata": {},
   "outputs": [
    {
     "name": "stdout",
     "output_type": "stream",
     "text": [
      "loading pickle\n"
     ]
    }
   ],
   "source": [
    "\n",
    "if os.path.isfile(pickle_full):\n",
    "    print(\"loading pickle\")\n",
    "    compare_temps = pd.read_pickle(pickle_full)\n",
    "    left = compare_temps[compare_temps[\"position\"] == 'left']\n",
    "    middle = compare_temps[compare_temps[\"position\"] == 'middle']\n",
    "    right = compare_temps[compare_temps[\"position\"] == 'right']\n",
    "else:\n",
    "    print(\"creating pickle...\")\n",
    "    print(\"this will take some time...\")\n",
    "    \n",
    "    left  = df[left_mask].copy()\n",
    "    middle = df[middle_mask].copy()\n",
    "    right = df[right_mask].copy()\n",
    "     \n",
    "    # Define a function which calculates\n",
    "    # the highest three numbers from a list \n",
    "    # and calculate their mean\n",
    "    # O(n)\n",
    "    def top_three_mean(numbers):\n",
    "        count = 0\n",
    "        m1 = m2 = m3 = float('-inf')\n",
    "        for number in numbers:\n",
    "            count += 1\n",
    "            if number >= m3:\n",
    "                if number >= m2:\n",
    "                    if number >= m1:\n",
    "                        m1, m2, m3 = number, m1, m2   \n",
    "                    else:\n",
    "                        m3 = m2\n",
    "                        m2 = number\n",
    "                else:\n",
    "                    m3 = number\n",
    "\n",
    "        tri_mean = np.mean((m1,m2,m3))          \n",
    "        return tri_mean if count >= 2 else None\n",
    "\n",
    "    # Apply top_three_mean to each urinal section\n",
    "    left[\"mean3\"] = left.progress_apply(top_three_mean,axis = 1)\n",
    "    middle[\"mean3\"] = middle.progress_apply(top_three_mean,axis = 1)\n",
    "    right[\"mean3\"] = right.progress_apply(top_three_mean,axis = 1)\n",
    "    \n",
    "    # assign the previous calculated background temperatures to each urinal section\n",
    "    left[\"background_temp\"] = left_background\n",
    "    middle[\"background_temp\"] = middle_background\n",
    "    right[\"background_temp\"] = right_background\n",
    "    \n",
    "    # specify the urinal section (this is more convenient for pickling)\n",
    "    left[\"position\"] = 'left'\n",
    "    middle[\"position\"] = 'middle'\n",
    "    right[\"position\"] = 'right'\n",
    "    \n",
    "    compare_temps = pd.concat([left.iloc[:,-3:],middle.iloc[:,-3:],right.iloc[:,-3:]],axis = 0)\n",
    "    \n",
    "    compare_temps.to_pickle(pickle_full)\n",
    "    \n",
    "    left = compare_temps[compare_temps[\"position\"] == 'left']\n",
    "    middle = compare_temps[compare_temps[\"position\"] == 'middle']\n",
    "    right = compare_temps[compare_temps[\"position\"] == 'right']\n",
    "    "
   ]
  },
  {
   "cell_type": "markdown",
   "metadata": {},
   "source": [
    "### Compare background temperature to highest three temperatures\n",
    "$T_m - T_b > T_{th}$ __AND__ $T_m > T_{abs}$  \n",
    "These two comparisons are converted to a boolean __1__ or __0__\n",
    "\n",
    "$T_{Th}$ and $T_{abs}$ are determined from [Trofimova et. al.](http://www.scirp.org/jouRNAl/PaperInformation.aspx?PaperID=74726)"
   ]
  },
  {
   "cell_type": "code",
   "execution_count": 12,
   "metadata": {},
   "outputs": [
    {
     "data": {
      "text/html": [
       "<div>\n",
       "<style scoped>\n",
       "    .dataframe tbody tr th:only-of-type {\n",
       "        vertical-align: middle;\n",
       "    }\n",
       "\n",
       "    .dataframe tbody tr th {\n",
       "        vertical-align: top;\n",
       "    }\n",
       "\n",
       "    .dataframe thead th {\n",
       "        text-align: right;\n",
       "    }\n",
       "</style>\n",
       "<table border=\"1\" class=\"dataframe\">\n",
       "  <thead>\n",
       "    <tr style=\"text-align: right;\">\n",
       "      <th></th>\n",
       "      <th>left</th>\n",
       "      <th>middle</th>\n",
       "      <th>right</th>\n",
       "    </tr>\n",
       "    <tr>\n",
       "      <th>time</th>\n",
       "      <th></th>\n",
       "      <th></th>\n",
       "      <th></th>\n",
       "    </tr>\n",
       "  </thead>\n",
       "  <tbody>\n",
       "    <tr>\n",
       "      <th>2017-11-24 09:06:20</th>\n",
       "      <td>0</td>\n",
       "      <td>0</td>\n",
       "      <td>0</td>\n",
       "    </tr>\n",
       "    <tr>\n",
       "      <th>2017-11-26 14:18:59</th>\n",
       "      <td>0</td>\n",
       "      <td>0</td>\n",
       "      <td>0</td>\n",
       "    </tr>\n",
       "    <tr>\n",
       "      <th>2017-11-27 19:07:21</th>\n",
       "      <td>0</td>\n",
       "      <td>0</td>\n",
       "      <td>0</td>\n",
       "    </tr>\n",
       "    <tr>\n",
       "      <th>2017-11-25 08:46:02</th>\n",
       "      <td>0</td>\n",
       "      <td>0</td>\n",
       "      <td>0</td>\n",
       "    </tr>\n",
       "    <tr>\n",
       "      <th>2017-11-27 04:20:51</th>\n",
       "      <td>0</td>\n",
       "      <td>0</td>\n",
       "      <td>0</td>\n",
       "    </tr>\n",
       "  </tbody>\n",
       "</table>\n",
       "</div>"
      ],
      "text/plain": [
       "                     left  middle  right\n",
       "time                                    \n",
       "2017-11-24 09:06:20     0       0      0\n",
       "2017-11-26 14:18:59     0       0      0\n",
       "2017-11-27 19:07:21     0       0      0\n",
       "2017-11-25 08:46:02     0       0      0\n",
       "2017-11-27 04:20:51     0       0      0"
      ]
     },
     "execution_count": 12,
     "metadata": {},
     "output_type": "execute_result"
    }
   ],
   "source": [
    "Tabs = 24.5\n",
    "Tth = 1.5\n",
    "df_temp_thresh = pd.DataFrame({\"time\":df[\"time\"]})\n",
    "df_temp_thresh[\"left\"] = ((left[\"mean3\"] - left[\"background_temp\"] > Tth) & (left[\"mean3\"] > Tabs)).astype(int)\n",
    "df_temp_thresh[\"middle\"] = ((middle[\"mean3\"] - middle[\"background_temp\"] > Tth) & (middle[\"mean3\"] > Tabs)).astype(int)\n",
    "df_temp_thresh[\"right\"] = ((right[\"mean3\"] - right[\"background_temp\"] > Tth) & (right[\"mean3\"] > Tabs)).astype(int)\n",
    "df_temp_thresh.set_index(\"time\",inplace=True)\n",
    "df_temp_thresh.sample(5)"
   ]
  },
  {
   "cell_type": "markdown",
   "metadata": {},
   "source": [
    "### Differentiate Binary values\n",
    "Differentiating is a quick way of finding a state change,  \n",
    "1 corresponds to a _walk in_, -1 corresponds to a _walk out_"
   ]
  },
  {
   "cell_type": "code",
   "execution_count": 13,
   "metadata": {},
   "outputs": [],
   "source": [
    "df_temp_diff = df_temp_thresh.diff(axis=0)[1:]\n",
    "df_temp_diff.reset_index(inplace=True)\n"
   ]
  },
  {
   "cell_type": "markdown",
   "metadata": {},
   "source": [
    "### Remove all zeros\n",
    "for the differentiated DataFrame zero corresponds to a state remaining the same.  \n",
    "We only care about state changes!"
   ]
  },
  {
   "cell_type": "code",
   "execution_count": 14,
   "metadata": {},
   "outputs": [
    {
     "data": {
      "text/html": [
       "<div>\n",
       "<style scoped>\n",
       "    .dataframe tbody tr th:only-of-type {\n",
       "        vertical-align: middle;\n",
       "    }\n",
       "\n",
       "    .dataframe tbody tr th {\n",
       "        vertical-align: top;\n",
       "    }\n",
       "\n",
       "    .dataframe thead th {\n",
       "        text-align: right;\n",
       "    }\n",
       "</style>\n",
       "<table border=\"1\" class=\"dataframe\">\n",
       "  <thead>\n",
       "    <tr style=\"text-align: right;\">\n",
       "      <th></th>\n",
       "      <th>in_out</th>\n",
       "      <th>time</th>\n",
       "    </tr>\n",
       "  </thead>\n",
       "  <tbody>\n",
       "    <tr>\n",
       "      <th>130</th>\n",
       "      <td>1.0</td>\n",
       "      <td>2017-11-23 16:57:14</td>\n",
       "    </tr>\n",
       "    <tr>\n",
       "      <th>131</th>\n",
       "      <td>-1.0</td>\n",
       "      <td>2017-11-23 16:57:14</td>\n",
       "    </tr>\n",
       "    <tr>\n",
       "      <th>188</th>\n",
       "      <td>1.0</td>\n",
       "      <td>2017-11-23 16:57:21</td>\n",
       "    </tr>\n",
       "    <tr>\n",
       "      <th>189</th>\n",
       "      <td>-1.0</td>\n",
       "      <td>2017-11-23 16:57:21</td>\n",
       "    </tr>\n",
       "    <tr>\n",
       "      <th>225</th>\n",
       "      <td>1.0</td>\n",
       "      <td>2017-11-23 16:57:25</td>\n",
       "    </tr>\n",
       "  </tbody>\n",
       "</table>\n",
       "</div>"
      ],
      "text/plain": [
       "     in_out                time\n",
       "130     1.0 2017-11-23 16:57:14\n",
       "131    -1.0 2017-11-23 16:57:14\n",
       "188     1.0 2017-11-23 16:57:21\n",
       "189    -1.0 2017-11-23 16:57:21\n",
       "225     1.0 2017-11-23 16:57:25"
      ]
     },
     "execution_count": 14,
     "metadata": {},
     "output_type": "execute_result"
    }
   ],
   "source": [
    "df_temp_diff_redL =  pd.concat([df_temp_diff[\"left\"][df_temp_diff[\"left\"] != 0],df_temp_diff[\"time\"][df_temp_diff[\"left\"] != 0]],axis = 1)\n",
    "df_temp_diff_redM = pd.concat([df_temp_diff[\"middle\"][df_temp_diff[\"middle\"] != 0],df_temp_diff[\"time\"][df_temp_diff[\"middle\"] != 0]],axis = 1)\n",
    "df_temp_diff_redR = pd.concat([df_temp_diff[\"right\"][df_temp_diff[\"right\"] != 0],df_temp_diff[\"time\"][df_temp_diff[\"right\"] != 0]],axis = 1)\n",
    "\n",
    "df_temp_diff_redL.columns = [\"in_out\",\"time\"]\n",
    "df_temp_diff_redM.columns = [\"in_out\",\"time\"]\n",
    "df_temp_diff_redR.columns = [\"in_out\",\"time\"]\n",
    "\n",
    "df_temp_diff_redR.head(5)"
   ]
  },
  {
   "cell_type": "markdown",
   "metadata": {},
   "source": [
    "### Error Checking\n",
    "Check that:\n",
    "1. The data started with no person in frame\n",
    "2. If a person walked in, they then walked out\n",
    "3. The data ended with no person in frame"
   ]
  },
  {
   "cell_type": "code",
   "execution_count": 15,
   "metadata": {},
   "outputs": [
    {
     "data": {
      "application/vnd.jupyter.widget-view+json": {
       "model_id": "2dc61c145c354984a910e2caaab4db8c"
      }
     },
     "metadata": {},
     "output_type": "display_data"
    },
    {
     "name": "stdout",
     "output_type": "stream",
     "text": [
      "\n"
     ]
    }
   ],
   "source": [
    "#check in_out always alternates-->it always does\n",
    "prev = -1\n",
    "test = df_temp_diff_redL\n",
    "for i in tnrange(len(test)):\n",
    "    \n",
    "    curr = test[\"in_out\"].iloc[i]\n",
    "    if curr == prev:\n",
    "        print(test[\"time\"].iloc[i])\n",
    "        raise AssertionError()\n",
    "    prev = curr\n",
    "\n",
    "    \n",
    "assert df_temp_diff_redL[\"in_out\"].sum() == 0 and df_temp_diff_redL[\"in_out\"].iloc[-1] == -1 \n",
    "assert df_temp_diff_redM[\"in_out\"].sum() == 0 and df_temp_diff_redM[\"in_out\"].iloc[-1] == -1\n",
    "assert df_temp_diff_redR[\"in_out\"].sum() == 0 and df_temp_diff_redR[\"in_out\"].iloc[-1] == -1\n"
   ]
  },
  {
   "cell_type": "markdown",
   "metadata": {},
   "source": [
    "### Convert 1 to \"in\" and -1 to \"out\" for readability"
   ]
  },
  {
   "cell_type": "code",
   "execution_count": 16,
   "metadata": {},
   "outputs": [],
   "source": [
    "def in_out(b):\n",
    "    try:\n",
    "        if int(b) == 1:\n",
    "            return \"in\"\n",
    "        elif int(b) == -1:\n",
    "            return \"out\"\n",
    "        else:\n",
    "            return b\n",
    "    except:\n",
    "        return b\n",
    "    \n",
    "df_temp_diff_redL[\"in_out\"]    = df_temp_diff_redL[\"in_out\"].apply(in_out)\n",
    "df_temp_diff_redM[\"in_out\"]    = df_temp_diff_redM[\"in_out\"].apply(in_out)\n",
    "df_temp_diff_redR[\"in_out\"]    = df_temp_diff_redR[\"in_out\"].apply(in_out)\n"
   ]
  },
  {
   "cell_type": "markdown",
   "metadata": {},
   "source": [
    "### Annotate the position"
   ]
  },
  {
   "cell_type": "code",
   "execution_count": 17,
   "metadata": {},
   "outputs": [],
   "source": [
    "df_temp_diff_redL[\"Position\"] = [\"left\" for x in range(len(df_temp_diff_redL))]\n",
    "df_temp_diff_redM[\"Position\"] = [\"middle\" for x in range(len(df_temp_diff_redM))]\n",
    "df_temp_diff_redR[\"Position\"] = [\"right\" for x in range(len(df_temp_diff_redR))]"
   ]
  },
  {
   "cell_type": "markdown",
   "metadata": {},
   "source": [
    "### Concatenate positions for time sorting"
   ]
  },
  {
   "cell_type": "code",
   "execution_count": 18,
   "metadata": {},
   "outputs": [
    {
     "data": {
      "text/html": [
       "<div>\n",
       "<style scoped>\n",
       "    .dataframe tbody tr th:only-of-type {\n",
       "        vertical-align: middle;\n",
       "    }\n",
       "\n",
       "    .dataframe tbody tr th {\n",
       "        vertical-align: top;\n",
       "    }\n",
       "\n",
       "    .dataframe thead th {\n",
       "        text-align: right;\n",
       "    }\n",
       "</style>\n",
       "<table border=\"1\" class=\"dataframe\">\n",
       "  <thead>\n",
       "    <tr style=\"text-align: right;\">\n",
       "      <th></th>\n",
       "      <th>in_out</th>\n",
       "      <th>time</th>\n",
       "      <th>Position</th>\n",
       "    </tr>\n",
       "  </thead>\n",
       "  <tbody>\n",
       "    <tr>\n",
       "      <th>1389769</th>\n",
       "      <td>in</td>\n",
       "      <td>2017-11-25 12:43:09</td>\n",
       "      <td>right</td>\n",
       "    </tr>\n",
       "    <tr>\n",
       "      <th>75238</th>\n",
       "      <td>out</td>\n",
       "      <td>2017-11-23 19:22:31</td>\n",
       "      <td>right</td>\n",
       "    </tr>\n",
       "    <tr>\n",
       "      <th>2741246</th>\n",
       "      <td>out</td>\n",
       "      <td>2017-11-27 07:13:54</td>\n",
       "      <td>middle</td>\n",
       "    </tr>\n",
       "    <tr>\n",
       "      <th>2234315</th>\n",
       "      <td>out</td>\n",
       "      <td>2017-11-26 15:16:30</td>\n",
       "      <td>middle</td>\n",
       "    </tr>\n",
       "    <tr>\n",
       "      <th>2496131</th>\n",
       "      <td>in</td>\n",
       "      <td>2017-11-26 23:30:24</td>\n",
       "      <td>middle</td>\n",
       "    </tr>\n",
       "  </tbody>\n",
       "</table>\n",
       "</div>"
      ],
      "text/plain": [
       "        in_out                time Position\n",
       "1389769     in 2017-11-25 12:43:09    right\n",
       "75238      out 2017-11-23 19:22:31    right\n",
       "2741246    out 2017-11-27 07:13:54   middle\n",
       "2234315    out 2017-11-26 15:16:30   middle\n",
       "2496131     in 2017-11-26 23:30:24   middle"
      ]
     },
     "execution_count": 18,
     "metadata": {},
     "output_type": "execute_result"
    }
   ],
   "source": [
    "rsv = df_temp_diff_redL\n",
    "rsv = rsv.append(df_temp_diff_redM)\n",
    "rsv = rsv.append(df_temp_diff_redR)\n",
    "\n",
    "rsv.sort_index(inplace=True)\n",
    "rsv.sample(5)"
   ]
  },
  {
   "cell_type": "markdown",
   "metadata": {},
   "source": [
    "### Collect in and out times as indexes and time and palce them in a dictionary"
   ]
  },
  {
   "cell_type": "code",
   "execution_count": 19,
   "metadata": {},
   "outputs": [
    {
     "data": {
      "application/vnd.jupyter.widget-view+json": {
       "model_id": "fcb14dd69fa647d08a1312cab0db5752"
      }
     },
     "metadata": {},
     "output_type": "display_data"
    },
    {
     "name": "stdout",
     "output_type": "stream",
     "text": [
      "\n"
     ]
    }
   ],
   "source": [
    "# in and out are times, and inx and outx are the indexes\n",
    "in_out_dict = {\"left\":{\"in\":[],\"out\":[],\"inx\":[],\"outx\":[]},\"middle\":{\"in\":[],\"out\":[],\"inx\":[],\"outx\":[]},\n",
    "               \"right\":{\"in\":[],\"out\":[],\"inx\":[],\"outx\":[]}}\n",
    "\n",
    "for t in tnrange(len(rsv)):\n",
    "    in_out_dict[rsv[\"Position\"].iloc[t]][rsv[\"in_out\"].iloc[t]].append(rsv[\"time\"].iloc[t])\n",
    "    in_out_dict[rsv[\"Position\"].iloc[t]][rsv[\"in_out\"].iloc[t]+'x'].append(rsv.index[t])\n",
    "    \n",
    "    "
   ]
  },
  {
   "cell_type": "markdown",
   "metadata": {},
   "source": [
    "## Time Threshold\n",
    "We now have a dictionary of all activity in our 3 urinal areas, timestamped.  \n",
    "However, we still need to differentiate a person walking past the urinals (to take care of other business),   \n",
    "and potentially remove any instantaneous temperature fluctuations  \n",
    "(but hopefully our background temperature comparison took care of that).  \n",
    "\n",
    "We call a person visiting the urinal, to relieve some pressure, a __stay__.  \n",
    "A stay is defined as a person visisting the urinal longer than 8 seconds <sup>1</sup>.\n",
    "\n",
    "___\n",
    "<sup>1</sup> <sub> This was experimentally determined, and later verified by [this Ig Noble prize winning paper](http://www.pnas.org/content/111/33/11932?tab=ds), and two [Grideye](http://www.scirp.org/jouRNAl/PaperInformation.aspx?PaperID=74726) [specific](http://ieeexplore.ieee.org/document/6798925/) papers </sub>\n"
   ]
  },
  {
   "cell_type": "code",
   "execution_count": 20,
   "metadata": {},
   "outputs": [],
   "source": [
    "from datetime import timedelta\n",
    "\n",
    "# removes all non stays and sort into order of occurence\n",
    "def removeNonStays(timeFilt):\n",
    "    positions = [\"left\",\"middle\",\"right\"]\n",
    "    unsorted_stays = pd.DataFrame()\n",
    "    for position in positions:\n",
    "        curr_stays = pd.concat([pd.DataFrame(in_out_dict[position][\"in\"]),pd.DataFrame(in_out_dict[position][\"out\"]),\n",
    "                           pd.DataFrame(in_out_dict[position][\"inx\"]),pd.DataFrame(in_out_dict[position][\"outx\"])],axis=1)       \n",
    "        curr_stays.columns = [\"in\",\"out\",\"in_index\",\"out_index\"]\n",
    "        curr_stays = curr_stays[curr_stays[\"out\"] - curr_stays[\"in\"]> timedelta(seconds=timeFilt )]\n",
    "        curr_stays[\"length\"] = curr_stays[\"out\"] - curr_stays[\"in\"]\n",
    "        curr_stays[\"Position\"] = position\n",
    "        unsorted_stays = unsorted_stays.append(curr_stays)\n",
    "        \n",
    "        sorted_stays = unsorted_stays.sort_index()\n",
    "        \n",
    "    return sorted_stays\n",
    "\n"
   ]
  },
  {
   "cell_type": "markdown",
   "metadata": {},
   "source": [
    "### Time filter for 8 seconds"
   ]
  },
  {
   "cell_type": "code",
   "execution_count": 21,
   "metadata": {},
   "outputs": [
    {
     "data": {
      "text/html": [
       "<div>\n",
       "<style scoped>\n",
       "    .dataframe tbody tr th:only-of-type {\n",
       "        vertical-align: middle;\n",
       "    }\n",
       "\n",
       "    .dataframe tbody tr th {\n",
       "        vertical-align: top;\n",
       "    }\n",
       "\n",
       "    .dataframe thead th {\n",
       "        text-align: right;\n",
       "    }\n",
       "</style>\n",
       "<table border=\"1\" class=\"dataframe\">\n",
       "  <thead>\n",
       "    <tr style=\"text-align: right;\">\n",
       "      <th></th>\n",
       "      <th>in</th>\n",
       "      <th>out</th>\n",
       "      <th>in_index</th>\n",
       "      <th>out_index</th>\n",
       "      <th>length</th>\n",
       "      <th>Position</th>\n",
       "    </tr>\n",
       "  </thead>\n",
       "  <tbody>\n",
       "    <tr>\n",
       "      <th>23</th>\n",
       "      <td>2017-11-23 17:05:18</td>\n",
       "      <td>2017-11-23 17:05:52</td>\n",
       "      <td>2509</td>\n",
       "      <td>2814</td>\n",
       "      <td>00:00:34</td>\n",
       "      <td>left</td>\n",
       "    </tr>\n",
       "    <tr>\n",
       "      <th>28</th>\n",
       "      <td>2017-11-23 17:06:30</td>\n",
       "      <td>2017-11-23 17:07:12</td>\n",
       "      <td>3148</td>\n",
       "      <td>3520</td>\n",
       "      <td>00:00:42</td>\n",
       "      <td>left</td>\n",
       "    </tr>\n",
       "    <tr>\n",
       "      <th>37</th>\n",
       "      <td>2017-11-23 17:03:22</td>\n",
       "      <td>2017-11-23 17:03:48</td>\n",
       "      <td>1487</td>\n",
       "      <td>1719</td>\n",
       "      <td>00:00:26</td>\n",
       "      <td>right</td>\n",
       "    </tr>\n",
       "    <tr>\n",
       "      <th>44</th>\n",
       "      <td>2017-11-23 17:04:28</td>\n",
       "      <td>2017-11-23 17:05:15</td>\n",
       "      <td>2073</td>\n",
       "      <td>2486</td>\n",
       "      <td>00:00:47</td>\n",
       "      <td>right</td>\n",
       "    </tr>\n",
       "    <tr>\n",
       "      <th>69</th>\n",
       "      <td>2017-11-23 17:40:15</td>\n",
       "      <td>2017-11-23 17:40:52</td>\n",
       "      <td>21033</td>\n",
       "      <td>21364</td>\n",
       "      <td>00:00:37</td>\n",
       "      <td>left</td>\n",
       "    </tr>\n",
       "  </tbody>\n",
       "</table>\n",
       "</div>"
      ],
      "text/plain": [
       "                    in                 out  in_index  out_index   length  \\\n",
       "23 2017-11-23 17:05:18 2017-11-23 17:05:52      2509       2814 00:00:34   \n",
       "28 2017-11-23 17:06:30 2017-11-23 17:07:12      3148       3520 00:00:42   \n",
       "37 2017-11-23 17:03:22 2017-11-23 17:03:48      1487       1719 00:00:26   \n",
       "44 2017-11-23 17:04:28 2017-11-23 17:05:15      2073       2486 00:00:47   \n",
       "69 2017-11-23 17:40:15 2017-11-23 17:40:52     21033      21364 00:00:37   \n",
       "\n",
       "   Position  \n",
       "23     left  \n",
       "28     left  \n",
       "37    right  \n",
       "44    right  \n",
       "69     left  "
      ]
     },
     "execution_count": 21,
     "metadata": {},
     "output_type": "execute_result"
    }
   ],
   "source": [
    "timeFilter = 8\n",
    "sorted_stays = removeNonStays(timeFilter)\n",
    "\n",
    "removeNonStays(timeFilter).head()"
   ]
  },
  {
   "cell_type": "code",
   "execution_count": 22,
   "metadata": {},
   "outputs": [],
   "source": [
    "pickle_full = \"sorted_stays.p\""
   ]
  },
  {
   "cell_type": "code",
   "execution_count": 23,
   "metadata": {},
   "outputs": [
    {
     "name": "stdout",
     "output_type": "stream",
     "text": [
      "You've already pickled!\n"
     ]
    }
   ],
   "source": [
    "if os.path.isfile(pickle_full):\n",
    "    print(\"You've already pickled!\")\n",
    "   \n",
    "else:\n",
    "    sorted_stays.to_pickle(pickle_full)"
   ]
  },
  {
   "cell_type": "markdown",
   "metadata": {},
   "source": [
    "Go to __3 - Data Analysis__"
   ]
  }
 ],
 "metadata": {
  "kernelspec": {
   "display_name": "Python 2",
   "language": "python",
   "name": "python2"
  },
  "language_info": {
   "codemirror_mode": {
    "name": "ipython",
    "version": 2
   },
   "file_extension": ".py",
   "mimetype": "text/x-python",
   "name": "python",
   "nbconvert_exporter": "python",
   "pygments_lexer": "ipython2",
   "version": "2.7.6"
  }
 },
 "nbformat": 4,
 "nbformat_minor": 2
}
